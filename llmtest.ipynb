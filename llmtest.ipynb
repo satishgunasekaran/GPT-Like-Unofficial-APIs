{
 "cells": [
  {
   "attachments": {},
   "cell_type": "markdown",
   "metadata": {},
   "source": [
    "References\n",
    "\n",
    "- https://github.com/Soulter/hugging-chat-api\n",
    "- https://github.com/dsdanielpark/Bard-API"
   ]
  },
  {
   "attachments": {},
   "cell_type": "markdown",
   "metadata": {},
   "source": [
    "Bard API"
   ]
  },
  {
   "cell_type": "code",
   "execution_count": 3,
   "metadata": {},
   "outputs": [
    {
     "data": {
      "text/plain": [
       "\"I am glad to hear that you are grateful for Charles Babbage. He was a brilliant mathematician and inventor who had a profound impact on the development of computers. His work on the Difference Engine and the Analytical Engine laid the foundation for the modern computer. Without his contributions, it is likely that computers would not exist today.\\n\\nHere are some of the specific contributions of Charles Babbage to the development of computers:\\n\\n* He invented the Difference Engine, which was the first mechanical computer that could be programmed to perform complex calculations.\\n* He designed the Analytical Engine, which was a theoretical computer that could perform any calculation that could be described by an algorithm.\\n* He developed the concept of a stored program computer, which is the basis for all modern computers.\\n* He invented the punched card, which is still used in computers today.\\n\\nBabbage's work was groundbreaking and has had a lasting impact on the world. We are all grateful for his contributions to the development of computers.\""
      ]
     },
     "execution_count": 3,
     "metadata": {},
     "output_type": "execute_result"
    }
   ],
   "source": [
    "from bardapi import Bard\n",
    "\n",
    "token = 'xxxxxxxxxxxxxx'\n",
    "bard = Bard(token=token)\n",
    "bard.get_answer(\"Iam grateful for charles babbage!\")['content']\n"
   ]
  },
  {
   "attachments": {},
   "cell_type": "markdown",
   "metadata": {},
   "source": [
    "Hugging Chat"
   ]
  },
  {
   "cell_type": "code",
   "execution_count": 1,
   "metadata": {},
   "outputs": [
    {
     "name": "stdout",
     "output_type": "stream",
     "text": [
      "Hello! How can I assist you today? Is there something specific you would like me to help you with? Please know that my goal is always to provide accurate and helpful responses while maintaining professionalism and ethical standards. If there is any issue or problem you need assistance with, please don’t hesitate to ask. Additionally, if there is anything else I can do for you beyond answering your question or addressing your concern, feel free to make such requests as well.\n"
     ]
    }
   ],
   "source": [
    "from hugchat import hugchat\n",
    "chatbot = hugchat.ChatBot(cookie_path=\"cookies.json\")  # or cookies=[...]\n",
    "print(chatbot.chat(\"HI\"))\n",
    "\n",
    "# Create a new conversation\n",
    "id = chatbot.new_conversation() \n",
    "chatbot.change_conversation(id)\n",
    "\n",
    "# Get conversation list\n",
    "conversation_list = chatbot.get_conversation_list()"
   ]
  },
  {
   "cell_type": "code",
   "execution_count": null,
   "metadata": {},
   "outputs": [],
   "source": []
  }
 ],
 "metadata": {
  "kernelspec": {
   "display_name": "lenv",
   "language": "python",
   "name": "python3"
  },
  "language_info": {
   "codemirror_mode": {
    "name": "ipython",
    "version": 3
   },
   "file_extension": ".py",
   "mimetype": "text/x-python",
   "name": "python",
   "nbconvert_exporter": "python",
   "pygments_lexer": "ipython3",
   "version": "3.10.9"
  },
  "orig_nbformat": 4
 },
 "nbformat": 4,
 "nbformat_minor": 2
}
